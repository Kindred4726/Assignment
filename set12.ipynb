{
 "cells": [
  {
   "cell_type": "code",
   "execution_count": 1,
   "id": "b65c2f2a",
   "metadata": {},
   "outputs": [],
   "source": [
    "import pandas as pd\n",
    "import matplotlib.pyplot as plt\n",
    "from sklearn.preprocessing import MinMaxScaler, StandardScaler\n",
    "import numpy as np"
   ]
  },
  {
   "cell_type": "code",
   "execution_count": 2,
   "id": "5e8ca79a",
   "metadata": {},
   "outputs": [
    {
     "name": "stdout",
     "output_type": "stream",
     "text": [
      "      Name       Math    Science      Age\n",
      "0      RAJ    Average       Good    Youth\n",
      "1     NEHA       Good       Good    Adult\n",
      "2     AJAY  Excellent  Excellent  Invalid\n",
      "3     SITA       Good  Excellent    Adult\n",
      "5  UNKNOWN       Good    Average    Youth\n"
     ]
    }
   ],
   "source": [
    "df = pd.read_csv(\"SET-12.csv\")\n",
    "df['Name'] = df['Name'].fillna('Unknown')\n",
    "df[[\"Math\" , \"Science\"]] = df[[\"Math\", \"Science\"]].fillna(df[[\"Math\", \"Science\"]].mean())\n",
    "\n",
    "df['Name'] = df['Name'].str.strip().str.upper()\n",
    "df = df.drop_duplicates()\n",
    "\n",
    "scaler1 = MinMaxScaler()\n",
    "scaler2 = StandardScaler()\n",
    "df[['Math', 'Science']] = scaler1.fit_transform(df[['Math', 'Science']])\n",
    "df['Age'] = scaler2.fit_transform(df[['Age']])\n",
    "\n",
    "\n",
    "def bin_marks(score):\n",
    "    if score < 0.33:\n",
    "        return 'Average'\n",
    "    elif score < 0.67:\n",
    "        return 'Good'\n",
    "    else:\n",
    "        return 'Excellent'\n",
    "\n",
    "age_bins = [-np.inf, 0, 0.4, 0.65, 100]\n",
    "age_labels = ['Invalid', 'Youth', 'Adult', 'Senior']\n",
    "\n",
    "df['Math'] = df['Math'].apply(bin_marks)\n",
    "df['Science'] = df['Science'].apply(bin_marks)\n",
    "df['Age'] = pd.cut(df['Age'], bins=age_bins, labels=age_labels)\n",
    "\n",
    "print(df)"
   ]
  }
 ],
 "metadata": {
  "kernelspec": {
   "display_name": "Python 3",
   "language": "python",
   "name": "python3"
  },
  "language_info": {
   "codemirror_mode": {
    "name": "ipython",
    "version": 3
   },
   "file_extension": ".py",
   "mimetype": "text/x-python",
   "name": "python",
   "nbconvert_exporter": "python",
   "pygments_lexer": "ipython3",
   "version": "3.11.9"
  }
 },
 "nbformat": 4,
 "nbformat_minor": 5
}
